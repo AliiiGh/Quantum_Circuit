{
  "nbformat": 4,
  "nbformat_minor": 0,
  "metadata": {
    "colab": {
      "provenance": []
    },
    "kernelspec": {
      "name": "python3",
      "display_name": "Python 3"
    },
    "language_info": {
      "name": "python"
    }
  },
  "cells": [
    {
      "cell_type": "code",
      "source": [
        "import cirq\n",
        "\n",
        "# Define the number of qubits\n",
        "num_qubits = 2\n",
        "\n",
        "# Create a Quantum Circuit\n",
        "quantum_circuit = cirq.Circuit()\n",
        "\n",
        "# Create qubits\n",
        "qubits = [cirq.GridQubit(i, 0) for i in range(num_qubits)]\n",
        "\n",
        "# Add Hadamard gate to qubit 0\n",
        "quantum_circuit.append(cirq.H(qubits[0]))\n",
        "\n",
        "# Add CNOT gate with qubit 0 as control and qubit 1 as target\n",
        "quantum_circuit.append(cirq.CNOT(qubits[0], qubits[1]))\n",
        "\n",
        "# Print the circuit\n",
        "print(\"Quantum Circuit:\")\n",
        "print(quantum_circuit)\n",
        "\n",
        "# Simulate the circuit\n",
        "simulator = cirq.Simulator()\n",
        "result = simulator.simulate(quantum_circuit)\n",
        "\n",
        "# Print the final state vector\n",
        "print(\"\\nFinal State Vector:\")\n",
        "print(result.final_state_vector)\n"
      ],
      "metadata": {
        "id": "iisFqad0jce6"
      },
      "execution_count": null,
      "outputs": []
    }
  ]
}